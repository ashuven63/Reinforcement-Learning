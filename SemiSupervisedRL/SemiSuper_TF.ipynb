{
 "cells": [
  {
   "cell_type": "code",
   "execution_count": 43,
   "metadata": {
    "collapsed": false
   },
   "outputs": [],
   "source": [
    "%matplotlib inline\n",
    "import gym\n",
    "import numpy as np\n",
    "from collections import defaultdict \n",
    "import random\n",
    "import matplotlib.pyplot as plt\n",
    "import seaborn as sns; sns.set()\n",
    "import matplotlib\n",
    "import math\n",
    "import sys, traceback\n",
    "import logging\n",
    "import pickle\n",
    "import copy\n",
    "from sklearn import linear_model\n",
    "import tensorflow as tf\n",
    "import pickle"
   ]
  },
  {
   "cell_type": "code",
   "execution_count": 44,
   "metadata": {
    "collapsed": false
   },
   "outputs": [],
   "source": [
    "logging.basicConfig(stream=sys.stdout, level=logging.DEBUG)\n",
    "logger = logging.getLogger()\n",
    "Q = defaultdict(dict)\n",
    "Observed_Counts = defaultdict(dict)\n",
    "ALPHA = 0.1\n",
    "GAMMA = 0.9\n",
    "NO_OF_EPISODES = 3000\n",
    "NO_OF_ITER = 500\n",
    "ANGLE_TILE_SIZE = 18 # Should be such that no bin lies on both sides of center\n",
    "THETADOT_TILE_SIZE = 6\n",
    "# ACTIONS = [-2, -1.6, -0.8, -0.4, -0.2, 0, 0.2, 0.4, 0.8, 1.6, 2]\n",
    "ACTIONS = [-1.5, -0.1, 0, 0.1, 1.5 ]\n",
    "MAX_LENGTH_MEMORY = 10000\n",
    "REPLAY_SAMPLE_SIZE = 50\n",
    "ENABLE_REPLAY = False\n",
    "DEBUG = False\n",
    "replay_memory = []\n",
    "filename = str(NO_OF_EPISODES) + '_' + str(NO_OF_ITER) + '_' + str(MAX_LENGTH_MEMORY) + '_' + str(REPLAY_SAMPLE_SIZE)\n",
    "current_session = None\n",
    "IS_MODEL_INIT = False\n",
    "filename = 'TF' + str(NO_OF_EPISODES) + '_' + str(NO_OF_ITER) + '_' + str(MAX_LENGTH_MEMORY) + '_' + str(REPLAY_SAMPLE_SIZE)"
   ]
  },
  {
   "cell_type": "code",
   "execution_count": 45,
   "metadata": {
    "collapsed": true
   },
   "outputs": [],
   "source": [
    "# Credits: https://github.com/aymericdamien/TensorFlow-Examples/blob/master/notebooks/3_NeuralNetworks/multilayer_perceptron.ipynb\n",
    "# Parameters\n",
    "learning_rate = 0.001\n",
    "training_epochs = 1\n",
    "batch_size = 100\n",
    "\n",
    "# Network Parameters\n",
    "n_hidden_1 = 5 # 1st layer number of features\n",
    "n_hidden_2 = 5 # 2nd layer number of features\n",
    "n_input = 3 # State and action\n",
    "n_classes = 1 # Reward\n",
    "\n",
    "# Memory for storing rewards obtained\n",
    "reward_memory = []\n",
    "MIN_OBSERVE_LEN = 5000\n",
    "EVALUATION_EPISODE_SIZE = NO_OF_EPISODES"
   ]
  },
  {
   "cell_type": "code",
   "execution_count": 34,
   "metadata": {
    "collapsed": true
   },
   "outputs": [],
   "source": [
    "# Code Credits: http://stackoverflow.com/questions/38189119/simple-way-to-visualize-a-tensorflow-graph-in-jupyter/38192374#38192374\n",
    "# Functions to display the constructed tensorflow graph\n",
    "from IPython.display import clear_output, Image, display, HTML\n",
    "\n",
    "def strip_consts(graph_def, max_const_size=32):\n",
    "    \"\"\"Strip large constant values from graph_def.\"\"\"\n",
    "    strip_def = tf.GraphDef()\n",
    "    for n0 in graph_def.node:\n",
    "        n = strip_def.node.add() \n",
    "        n.MergeFrom(n0)\n",
    "        if n.op == 'Const':\n",
    "            tensor = n.attr['value'].tensor\n",
    "            size = len(tensor.tensor_content)\n",
    "            if size > max_const_size:\n",
    "                tensor.tensor_content = \"<stripped %d bytes>\"%size\n",
    "    return strip_def\n",
    "\n",
    "def show_graph(graph_def, max_const_size=32):\n",
    "    \"\"\"Visualize TensorFlow graph.\"\"\"\n",
    "    if hasattr(graph_def, 'as_graph_def'):\n",
    "        graph_def = graph_def.as_graph_def()\n",
    "    strip_def = strip_consts(graph_def, max_const_size=max_const_size)\n",
    "    code = \"\"\"\n",
    "        <script>\n",
    "          function load() {{\n",
    "            document.getElementById(\"{id}\").pbtxt = {data};\n",
    "          }}\n",
    "        </script>\n",
    "        <link rel=\"import\" href=\"https://tensorboard.appspot.com/tf-graph-basic.build.html\" onload=load()>\n",
    "        <div style=\"height:600px\">\n",
    "          <tf-graph-basic id=\"{id}\"></tf-graph-basic>\n",
    "        </div>\n",
    "    \"\"\".format(data=repr(str(strip_def)), id='graph'+str(np.random.rand()))\n",
    "\n",
    "    iframe = \"\"\"\n",
    "        <iframe seamless style=\"width:1200px;height:620px;border:0\" srcdoc=\"{}\"></iframe>\n",
    "    \"\"\".format(code.replace('\"', '&quot;'))\n",
    "    display(HTML(iframe))"
   ]
  },
  {
   "cell_type": "code",
   "execution_count": 35,
   "metadata": {
    "collapsed": false
   },
   "outputs": [],
   "source": [
    "thetadot_bin = {}\n",
    "def epsilon_greedy(state, epsilon):\n",
    "    # print state\n",
    "    valid_actions = Q[state].keys()\n",
    "    if np.random.random() < epsilon:\n",
    "        return np.random.choice(ACTIONS)\n",
    "    max_action = max(Q[state], key=Q[state].get)\n",
    "    return max_action\n",
    "\n",
    "def set_thetadot_bins():\n",
    "    thetadot_bin[1] = (0, 0.5)\n",
    "    thetadot_bin[-1] = (-0.5, 0)\n",
    "    thetadot_bin[2] = (0.5, 1.5)\n",
    "    thetadot_bin[3] = (1.5, 2.5)\n",
    "    thetadot_bin[4] = (2.5, 3.5)\n",
    "    thetadot_bin[5] = (3.5, 4.5)\n",
    "    thetadot_bin[6] = (4.5, 5.5)\n",
    "    thetadot_bin[7] = (5.5, 6.5)\n",
    "    thetadot_bin[8] = (6.5, 8.1)\n",
    "    \n",
    "    thetadot_bin[-2] = (-1.5, -0.5)\n",
    "    thetadot_bin[-3] = (-2.5, -1.5)\n",
    "    thetadot_bin[-4] = (-3.5, -2.5)\n",
    "    thetadot_bin[-5] = (-4.5, -3.5)\n",
    "    thetadot_bin[-6] = (-5.5, -4.5)\n",
    "    thetadot_bin[-7] = (-6.5, -5.5)\n",
    "    thetadot_bin[-8] = (-8.1, -6.5)\n",
    "\n",
    "\n",
    "def set_theta_bins():\n",
    "    theta_bin[0] = [(0,10), (350,360)]\n",
    "    theta_bin[1] = [(10,30)]\n",
    "    theta_bin[2] = [(30,50)]\n",
    "    theta_bin[3] = [(50,70)]\n",
    "    theta_bin[4] = [(70,90)]\n",
    "    theta_bin[5] = [(90,110)]\n",
    "    theta_bin[6] = [(110,130)]\n",
    "    theta_bin[7] = [(130,150)]\n",
    "    theta_bin[8] = [(150,170)]\n",
    "    theta_bin[9] = [(170,190)]\n",
    "    theta_bin[10] = [(190,210)]\n",
    "    theta_bin[11] = [(210,230)]\n",
    "    theta_bin[12] = [(230,250)]\n",
    "    theta_bin[13] = [(250,270)]\n",
    "    theta_bin[14] = [(270,290)]\n",
    "    theta_bin[15] = [(290,310)]\n",
    "    theta_bin[16] = [(310,330)]\n",
    "    theta_bin[17] = [(330,350)]    \n",
    "\n",
    "set_thetadot_bins()\n",
    "\n",
    "def get_theta_bin(angle):\n",
    "    bin_num = int(angle/ANGLE_TILE_SIZE)\n",
    "    return bin_num\n",
    "    \n",
    "def get_thetadot_bin(i):\n",
    "    for key in thetadot_bin:\n",
    "        if i > thetadot_bin[key][0] and i <= thetadot_bin[key][1]:\n",
    "            return key\n",
    "    raise Exception(\"Key not found for %s\"%(i))\n",
    "\n",
    "def get_discrete_state(S):\n",
    "    theta = get_theta_bin((math.degrees(normalize_angle_360(S[0])))) \n",
    "    thetadot = get_thetadot_bin(S[1])\n",
    "    return (theta, thetadot)\n",
    "\n",
    "def normalize_angle_180(x):\n",
    "    x = (x % (2*np.pi))\n",
    "    if x < 0:\n",
    "        x = ( x + (2*np.pi))\n",
    "    if x >=0 and x <=180:\n",
    "        return x\n",
    "    else:\n",
    "        return x - 360\n",
    "\n",
    "def normalize_angle_360(x):\n",
    "    x = (x % (2*np.pi))\n",
    "    if x < 0:\n",
    "        return ( x + (2*np.pi))\n",
    "    return x\n",
    "    \n",
    "def init_Q():\n",
    "    angle_incr_step = (1.8/(180/ANGLE_TILE_SIZE))\n",
    "    for theta in range(0, 360/ANGLE_TILE_SIZE):\n",
    "        for thetadot in thetadot_bin.keys():\n",
    "            for action in ACTIONS:\n",
    "                if theta > 180:\n",
    "                    Q[(theta, thetadot)][action] = 0.2 + (angle_incr_step * (360 - theta))\n",
    "                else:\n",
    "                    Q[(theta, thetadot)][action] = -(0.2 + (angle_incr_step * (theta)))\n",
    "                Observed_Counts[(theta, thetadot, action)] = 0"
   ]
  },
  {
   "cell_type": "code",
   "execution_count": 36,
   "metadata": {
    "collapsed": false
   },
   "outputs": [],
   "source": [
    "# Credits: https://github.com/tensorflow/tensorflow/blob/master/tensorflow/examples/tutorials/mnist/mnist_with_summaries.py\n",
    "# We can't initialize these variables to 0 - the network will get stuck.\n",
    "def weight_variable(shape):\n",
    "    \"\"\"Create a weight variable with appropriate initialization.\"\"\"\n",
    "    initial = tf.truncated_normal(shape, stddev=0.1)\n",
    "    return tf.Variable(initial)\n",
    "\n",
    "def bias_variable(shape):\n",
    "    \"\"\"Create a bias variable with appropriate initialization.\"\"\"\n",
    "    initial = tf.constant(0.1, shape=shape)\n",
    "    return tf.Variable(initial)\n",
    "\n",
    "def variable_summaries(var):\n",
    "    \"\"\"Attach a lot of summaries to a Tensor (for TensorBoard visualization).\"\"\"\n",
    "    with tf.name_scope('summaries'):\n",
    "        mean = tf.reduce_mean(var)\n",
    "        tf.summary.scalar('mean', mean)\n",
    "    with tf.name_scope('stddev'):\n",
    "        stddev = tf.sqrt(tf.reduce_mean(tf.square(var - mean)))\n",
    "        tf.scalar_summary('stddev', stddev)\n",
    "        tf.scalar_summary('max', tf.reduce_max(var))\n",
    "        tf.scalar_summary('min', tf.reduce_min(var))\n",
    "        tf.histogram_summary('histogram', var)\n",
    "\n",
    "def nn_layer(input_tensor, input_dim, output_dim, layer_name, act=tf.nn.relu):\n",
    "    \"\"\"Reusable code for making a simple neural net layer.\n",
    "    It does a matrix multiply, bias add, and then uses relu to nonlinearize.\n",
    "    It also sets up name scoping so that the resultant graph is easy to read,\n",
    "    and adds a number of summary ops.\n",
    "    \"\"\"\n",
    "    # Adding a name scope ensures logical grouping of the layers in the graph.\n",
    "    with tf.name_scope(layer_name):\n",
    "        # This Variable will hold the state of the weights for the layer\n",
    "        with tf.name_scope('weights'):\n",
    "            weights = weight_variable([input_dim, output_dim])\n",
    "            variable_summaries(weights)\n",
    "        with tf.name_scope('biases'):\n",
    "            biases = bias_variable([output_dim])\n",
    "            variable_summaries(biases)\n",
    "        with tf.name_scope('Wx_plus_b'):\n",
    "            preactivate = tf.matmul(input_tensor, weights) + biases\n",
    "            tf.histogram_summary('pre_activations', preactivate)\n",
    "        if act is not None:\n",
    "            activations = act(preactivate, name='activation')\n",
    "            tf.histogram_summary('activations', activations)\n",
    "            return activations\n",
    "        return preactivate\n",
    "\n",
    "def build_model_graph():    \n",
    "    # Linear Network\n",
    "    layer1 = nn_layer(input_ph, n_input, n_hidden_1, 'L1', act=None)\n",
    "    print layer1\n",
    "    layer2 = nn_layer(layer1, n_hidden_1, n_hidden_2, 'L2', act=None)\n",
    "    print layer2\n",
    "    y_pred = nn_layer(layer2, n_hidden_2, 1, 'YPred', act=None)\n",
    "    print y_pred\n",
    "    \n",
    "    # Loss\n",
    "    y_diff = tf.sub(output_ph, y_pred, name='YDiff')\n",
    "    loss = tf.reduce_sum(tf.square(y_diff), name='Loss')\n",
    "    print loss\n",
    "    \n",
    "    # Optimizer node\n",
    "    with tf.name_scope('Optimizer'):\n",
    "        optimizer = tf.train.AdamOptimizer(learning_rate).minimize(loss)\n",
    "    \n",
    "    # Summary node\n",
    "    with tf.name_scope('Summaries'):\n",
    "        # Create a summary to monitor cost tensor\n",
    "        tf.scalar_summary(\"loss\", loss)\n",
    "        # Merge all summaries into a single op\n",
    "        summary = tf.merge_all_summaries()\n",
    "    \n",
    "    return y_pred, loss, optimizer, summary"
   ]
  },
  {
   "cell_type": "code",
   "execution_count": 37,
   "metadata": {
    "collapsed": false
   },
   "outputs": [],
   "source": [
    "def update_model(optimizer, sess):\n",
    "    global IS_MODEL_INIT\n",
    "    if not IS_MODEL_INIT:\n",
    "        IS_MODEL_INIT = True\n",
    "    minibatch = random.sample(reward_memory, batch_size)\n",
    "    X, y = [], []\n",
    "    for reward_sample in reward_memory:\n",
    "        X.append(reward_sample[:-1])\n",
    "        y.append(reward_sample[-1])\n",
    "    X_train = np.array(X)\n",
    "    y_train = np.array(y).reshape(len(y), 1)\n",
    "    sess.run(optimizer, feed_dict={input_ph:X_train, output_ph:y_train})\n",
    "\n",
    "def predict_reward(state, output_layer, sess):\n",
    "    reward = sess.run(output_layer, feed_dict={input_ph: [state]})\n",
    "#     print 'State : %s, Action Predicted: %s'%(state, reward[0][0])\n",
    "    return reward[0][0] "
   ]
  },
  {
   "cell_type": "code",
   "execution_count": 38,
   "metadata": {
    "collapsed": false
   },
   "outputs": [],
   "source": [
    "def qlearning_decay(env_name, ep, sess, model, optimizer, loss, summary):\n",
    "    env = gym.make(env_name)\n",
    "    init_Q()\n",
    "    episode_rewards = []\n",
    "    observed_theta, observed_thetadot = [], []\n",
    "    all_observed_theta, all_observed_thetadot = [], []\n",
    "    td_error_all = []\n",
    "    epsilon = ep\n",
    "    current_session = None\n",
    "    for i in range(NO_OF_EPISODES):\n",
    "        if i % 100 == 0:\n",
    "            print 'Episode %d'%(i)\n",
    "        total_episode_reward = 0\n",
    "        S = env.reset()\n",
    "        discrete_S = get_discrete_state(S)\n",
    "        for t in range(NO_OF_ITER):\n",
    "            A = epsilon_greedy(discrete_S, epsilon)\n",
    "            S_next, reward, _, _ = env.step([A])\n",
    "            if reward == 0: # Did not receive the reward for this time step.\n",
    "                if len(reward_memory) < int(MIN_OBSERVE_LEN) or not IS_MODEL_INIT: # Check what should be done here ?\n",
    "                    continue\n",
    "                reward = predict_reward(np.array([S[0], S[1], A]), model, sess)\n",
    "            else:\n",
    "                reward_memory.append(np.array([S[0], S[1], A, reward]))\n",
    "            total_episode_reward += reward\n",
    "            discrete_S_next = get_discrete_state(S_next)\n",
    "            A_next = max(Q[discrete_S_next], key=Q[discrete_S_next].get)\n",
    "            # Update the Q values\n",
    "            td_error = reward + GAMMA*Q[discrete_S_next][A_next] - Q[discrete_S][A]\n",
    "            td_error_all.append(td_error**2)\n",
    "            Q[discrete_S][A] = Q[discrete_S][A] + ALPHA*(td_error)\n",
    "            discrete_S = discrete_S_next\n",
    "        episode_rewards.append(total_episode_reward)\n",
    "        if len(reward_memory) >= int(MIN_OBSERVE_LEN):\n",
    "            update_model(optimizer, sess)\n",
    "        if i > 1000:\n",
    "            epsilon -= (1/i)\n",
    "    print 'Observed rewards in %d steps out of %d steps'%(len(reward_memory), (NO_OF_EPISODES*NO_OF_ITER))\n",
    "    return episode_rewards, td_error_all"
   ]
  },
  {
   "cell_type": "code",
   "execution_count": 39,
   "metadata": {
    "collapsed": false
   },
   "outputs": [],
   "source": [
    "def smooth_graph(yvalues):\n",
    "    smooth_values = []\n",
    "    for i in range(len(yvalues) - 100):\n",
    "        l = yvalues[i:i+100]\n",
    "        smooth_values.append(sum(l) / 100)\n",
    "    return smooth_values\n",
    "\n",
    "# ADD PICKLE DUMPS\n",
    "def evaluation(env_name, q_filename):\n",
    "    Q = pickle.load( open(q_filename, \"rb\" ) )\n",
    "    env = gym.make(env_name)\n",
    "    episode_rewards = []\n",
    "    for i in range(EVALUATION_EPISODE_SIZE):\n",
    "        S = env.reset()\n",
    "        episode_reward = 0\n",
    "        for t in range(NO_OF_ITER):\n",
    "            dis_S = get_discrete_state(S)\n",
    "            max_action = max(Q[dis_S], key=Q[dis_S].get)\n",
    "            S, reward, _, _ = env.step([max_action])\n",
    "            episode_reward += reward\n",
    "        episode_rewards.append(episode_reward)\n",
    "    return episode_rewards"
   ]
  },
  {
   "cell_type": "code",
   "execution_count": 40,
   "metadata": {
    "collapsed": false
   },
   "outputs": [
    {
     "name": "stdout",
     "output_type": "stream",
     "text": [
      "Tensor(\"L1/Wx_plus_b/add:0\", shape=(?, 5), dtype=float32)\n",
      "Tensor(\"L2/Wx_plus_b/add:0\", shape=(?, 5), dtype=float32)\n",
      "Tensor(\"YPred/Wx_plus_b/add:0\", shape=(?, 1), dtype=float32)\n",
      "Tensor(\"Loss:0\", shape=(), dtype=float32)\n"
     ]
    },
    {
     "name": "stderr",
     "output_type": "stream",
     "text": [
      "[2016-11-26 15:44:18,324] Making new env: SemisuperPendulumRandom-v0\n"
     ]
    },
    {
     "name": "stdout",
     "output_type": "stream",
     "text": [
      "Action Space\n",
      "Box(1,)\n",
      "Observation Space\n",
      "Box(3,)\n",
      "Episode 0\n",
      "Episode 100\n",
      "Episode 200\n",
      "Episode 300\n",
      "Episode 400\n",
      "Episode 500\n",
      "Episode 600\n",
      "Episode 700\n",
      "Episode 800\n",
      "Episode 900\n",
      "Episode 1000\n",
      "Episode 1100\n",
      "Episode 1200\n",
      "Episode 1300\n",
      "Episode 1400\n",
      "Episode 1500\n",
      "Episode 1600\n",
      "Episode 1700\n",
      "Episode 1800\n",
      "Episode 1900\n",
      "Observed rewards in 100383 steps out of 1000000 steps\n"
     ]
    }
   ],
   "source": [
    "env_name = 'SemisuperPendulumRandom-v0'\n",
    "tf.reset_default_graph()\n",
    "# tf Graph input\n",
    "input_ph = tf.placeholder(tf.float32, [None, n_input], name='X')\n",
    "# tf Graph Output\n",
    "output_ph = tf.placeholder(tf.float32, [None, n_classes])\n",
    "with tf.Session() as sess:\n",
    "    model, optimizer, loss, summary = build_model_graph()\n",
    "    init_vars = tf.initialize_all_variables()\n",
    "    sess.run(init_vars)\n",
    "#     show_graph(tf.get_default_graph().as_graph_def())\n",
    "    episode_rewards, td_error_all = qlearning_decay(env_name, 0.2, sess, model, optimizer, loss, summary)\n",
    "    pickle.dump(Q, open('pickle_dumps/' + filename + '_' + env_name, \"wb\"))\n",
    "#     eval_rewards = evaluation(env_name, sess,model)"
   ]
  },
  {
   "cell_type": "code",
   "execution_count": 20,
   "metadata": {
    "collapsed": false
   },
   "outputs": [
    {
     "data": {
      "text/plain": [
       "<matplotlib.legend.Legend at 0x1204e0710>"
      ]
     },
     "execution_count": 20,
     "metadata": {},
     "output_type": "execute_result"
    },
    {
     "data": {
      "image/png": "[encoded data removed]",
      "text/plain": [
       "<matplotlib.figure.Figure at 0x12824a1d0>"
      ]
     },
     "metadata": {},
     "output_type": "display_data"
    }
   ],
   "source": [
    "plt.plot(smooth_graph(episode_rewards))\n",
    "plt.plot(smooth_graph(eval_rewards))\n",
    "plt.legend(['train', 'test'])"
   ]
  },
  {
   "cell_type": "code",
   "execution_count": 12,
   "metadata": {
    "collapsed": false
   },
   "outputs": [
    {
     "data": {
      "text/plain": [
       "[<matplotlib.lines.Line2D at 0x12058de50>]"
      ]
     },
     "execution_count": 12,
     "metadata": {},
     "output_type": "execute_result"
    },
    {
     "data": {
      "image/png": "[encoded data removed]",
      "text/plain": [
       "<matplotlib.figure.Figure at 0x11df7f450>"
      ]
     },
     "metadata": {},
     "output_type": "display_data"
    }
   ],
   "source": [
    "plt.plot(episode_rewards)"
   ]
  },
  {
   "cell_type": "code",
   "execution_count": 21,
   "metadata": {
    "collapsed": false
   },
   "outputs": [
    {
     "name": "stderr",
     "output_type": "stream",
     "text": [
      "[2016-11-26 15:16:36,451] Making new env: SemisuperPendulumRandom-v0\n"
     ]
    },
    {
     "name": "stdout",
     "output_type": "stream",
     "text": [
      "Action Space\n",
      "Box(1,)\n",
      "Observation Space\n",
      "Box(3,)\n"
     ]
    }
   ],
   "source": [
    "def render(env_name):\n",
    "    env = gym.make(env_name)\n",
    "    S = env.reset()\n",
    "    env.render()\n",
    "    for t in range(NO_OF_ITER):\n",
    "        dis_S = get_discrete_state(S)\n",
    "        max_action = max(Q[dis_S], key=Q[dis_S].get)\n",
    "        S, reward, _, _ = env.step([max_action])\n",
    "        env.render()\n",
    "render('SemisuperPendulumRandom-v0')"
   ]
  },
  {
   "cell_type": "code",
   "execution_count": null,
   "metadata": {
    "collapsed": false
   },
   "outputs": [
    {
     "name": "stderr",
     "output_type": "stream",
     "text": [
      "[2016-11-26 16:01:42,573] Making new env: Pendulum-v0\n"
     ]
    },
    {
     "name": "stdout",
     "output_type": "stream",
     "text": [
      "Action Space\n",
      "Box(1,)\n",
      "Observation Space\n",
      "Box(3,)\n"
     ]
    },
    {
     "name": "stderr",
     "output_type": "stream",
     "text": [
      "[2016-11-26 16:03:01,517] Making new env: Pendulum-v0\n"
     ]
    },
    {
     "name": "stdout",
     "output_type": "stream",
     "text": [
      "Action Space\n",
      "Box(1,)\n",
      "Observation Space\n",
      "Box(3,)\n"
     ]
    }
   ],
   "source": [
    "qfiles = ['pickle_dumps/Q2000_500_10000_50_Pendulum-v0.p', 'pickle_dumps/TF2000_500_10000_50_SemisuperPendulumRandom-v0']\n",
    "legend = ['Supervised', 'SSRandom']\n",
    "all_rewards = []\n",
    "for q in qfiles:\n",
    "    rewards = evaluation('Pendulum-v0', q)\n",
    "    all_rewards.append(rewards)\n",
    " "
   ]
  },
  {
   "cell_type": "code",
   "execution_count": null,
   "metadata": {
    "collapsed": false
   },
   "outputs": [],
   "source": [
    "print len(all_rewards)\n",
    "for p in all_rewards:\n",
    "    plt.plot(smooth_graph(p))\n",
    "plt.legend(legend)"
   ]
  },
  {
   "cell_type": "code",
   "execution_count": null,
   "metadata": {
    "collapsed": true
   },
   "outputs": [],
   "source": []
  }
 ],
 "metadata": {
  "anaconda-cloud": {},
  "kernelspec": {
   "display_name": "Python [Root]",
   "language": "python",
   "name": "Python [Root]"
  },
  "language_info": {
   "codemirror_mode": {
    "name": "ipython",
    "version": 2
   },
   "file_extension": ".py",
   "mimetype": "text/x-python",
   "name": "python",
   "nbconvert_exporter": "python",
   "pygments_lexer": "ipython2",
   "version": "2.7.12"
  }
 },
 "nbformat": 4,
 "nbformat_minor": 0
}
