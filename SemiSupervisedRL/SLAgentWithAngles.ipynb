{
 "cells": [
  {
   "cell_type": "code",
   "execution_count": 1,
   "metadata": {
    "collapsed": false
   },
   "outputs": [
    {
     "name": "stderr",
     "output_type": "stream",
     "text": [
      "[2016-11-19 19:25:48,345] Making new env: Pendulum-v0\n"
     ]
    },
    {
     "name": "stdout",
     "output_type": "stream",
     "text": [
      "Action Space\n",
      "Box(1,)\n",
      "Observation Space\n",
      "Box(3,)\n"
     ]
    }
   ],
   "source": [
    "import gym\n",
    "import numpy as np\n",
    "from collections import defaultdict \n",
    "import random\n",
    "Q = defaultdict(dict)\n",
    "EPSILON = 0.1\n",
    "ALPHA = 0.1\n",
    "GAMMA = 0.7\n",
    "NO_OF_EPISODES = 150\n",
    "TILE_SIZE = 0.1\n",
    "VELOCITY_TILE_SIZE = 0.5\n",
    "ACTION_TILE_SIZE = 0.2\n",
    "env = gym.make('Pendulum-v0')"
   ]
  },
  {
   "cell_type": "code",
   "execution_count": 2,
   "metadata": {
    "collapsed": true
   },
   "outputs": [],
   "source": [
    "def epsilon_greedy((i,j,k)):\n",
    "    state = (i,j,k)\n",
    "#     print state\n",
    "    valid_actions = Q[state].keys()\n",
    "    max_action = max(Q[state], key=Q[state].get)\n",
    "    if np.random.random() < EPSILON:\n",
    "#         print 'random action'\n",
    "        random_action = np.random.randint(5)\n",
    "        return random_action\n",
    "    max_action = max(Q[state], key=Q[state].get)\n",
    "    return max_action"
   ]
  },
  {
   "cell_type": "code",
   "execution_count": 3,
   "metadata": {
    "collapsed": true
   },
   "outputs": [],
   "source": [
    "def get_position_tile(i, j):\n",
    "    theta = (y/x)\n",
    "    x_coor = int((i+1) / TILE_SIZE)\n",
    "    y_coor = int((j+1) / TILE_SIZE)\n",
    "    \n",
    "    return (x_coor, y_coor)\n",
    "    \n",
    "def get_velocity_tile(i):\n",
    "    ang_vel = int((i+8) / VELOCITY_TILE_SIZE)\n",
    "    return ang_vel\n",
    "\n",
    "def get_discrete_state(S):\n",
    "    (x_coor, y_coor) = get_position_tile(S[0], S[1])\n",
    "    ang_vel = get_velocity_tile(S[2])\n",
    "    return (x_coor, y_coor, ang_vel)\n",
    "\n",
    "def get_discrete_action(A):\n",
    "    return int((A+2)/ACTION_TILE_SIZE)\n",
    "    print(env.action_space.high)\n",
    "    print(env.action_space.low)\n",
    "\n",
    "def init_Q():\n",
    "    for i in range(0,int(2/TILE_SIZE)+1):\n",
    "        for j in range(0,int(2/TILE_SIZE)+1):\n",
    "            for k in range(0, int(16/VELOCITY_TILE_SIZE)+1):\n",
    "                for action in range(int(4/ACTION_TILE_SIZE)+1):\n",
    "                    Q[(i,j,k)][action] = 0 \n"
   ]
  },
  {
   "cell_type": "code",
   "execution_count": 4,
   "metadata": {
    "collapsed": true
   },
   "outputs": [],
   "source": [
    "def qlearning():\n",
    "    init_Q()\n",
    "    episode_rewards = []\n",
    "    episode_steps = []\n",
    "    for i in range(NO_OF_EPISODES):\n",
    "        print('Episode Start %s'%(i))\n",
    "        S = env.reset()\n",
    "        print 'First Observation %s'%(S)\n",
    "        total_episode_reward = 0\n",
    "        no_of_steps_per_episode = 0\n",
    "        done = False # When should this end because this is not a episodic task. \n",
    "        for t in range(1000): # change the terminal state \n",
    "            if t%5 == 0:\n",
    "                env.render()\n",
    "            discrete_S = get_discrete_state(S)\n",
    "            A = epsilon_greedy(discrete_S) # Should change the state here\n",
    "            S_next, reward, _, _ = env.step([(A-2)*ACTION_TILE_SIZE])\n",
    "            total_episode_reward += reward\n",
    "            discrete_S_next = get_discrete_state(S_next)\n",
    "            A_next = max(Q[discrete_S_next], key=Q[discrete_S_next].get)\n",
    "            Q[discrete_S][A] = Q[discrete_S][A] + ALPHA*(reward + GAMMA*Q[discrete_S_next][A_next] - Q[discrete_S][A])\n",
    "            S = S_next\n",
    "            no_of_steps_per_episode += 1\n",
    "        episode_rewards.append(total_episode_reward)\n",
    "        episode_steps.append(no_of_steps_per_episode)\n",
    "#         print Q\n",
    "#         break\n",
    "    return episode_rewards, episode_steps"
   ]
  },
  {
   "cell_type": "code",
   "execution_count": 5,
   "metadata": {
    "collapsed": false
   },
   "outputs": [
    {
     "name": "stdout",
     "output_type": "stream",
     "text": [
      "Episode Start 0\n",
      "First Observation [ 0.17933656 -0.98378778  0.15361921]\n"
     ]
    },
    {
     "ename": "NameError",
     "evalue": "global name 'y' is not defined",
     "output_type": "error",
     "traceback": [
      "\u001b[0;31m---------------------------------------------------------------------------\u001b[0m",
      "\u001b[0;31mNameError\u001b[0m                                 Traceback (most recent call last)",
      "\u001b[0;32m<ipython-input-5-494fd8104edd>\u001b[0m in \u001b[0;36m<module>\u001b[0;34m()\u001b[0m\n\u001b[0;32m----> 1\u001b[0;31m \u001b[0mepisode_rewards\u001b[0m\u001b[0;34m,\u001b[0m \u001b[0m_\u001b[0m \u001b[0;34m=\u001b[0m \u001b[0mqlearning\u001b[0m\u001b[0;34m(\u001b[0m\u001b[0;34m)\u001b[0m\u001b[0;34m\u001b[0m\u001b[0m\n\u001b[0m\u001b[1;32m      2\u001b[0m \u001b[0;32mprint\u001b[0m \u001b[0mepisode_rewards\u001b[0m\u001b[0;34m\u001b[0m\u001b[0m\n\u001b[1;32m      3\u001b[0m \u001b[0;31m# get_position_tile(0, 0)\u001b[0m\u001b[0;34m\u001b[0m\u001b[0;34m\u001b[0m\u001b[0m\n",
      "\u001b[0;32m<ipython-input-4-6538822e4ed6>\u001b[0m in \u001b[0;36mqlearning\u001b[0;34m()\u001b[0m\n\u001b[1;32m     13\u001b[0m             \u001b[0;32mif\u001b[0m \u001b[0mt\u001b[0m\u001b[0;34m%\u001b[0m\u001b[0;36m5\u001b[0m \u001b[0;34m==\u001b[0m \u001b[0;36m0\u001b[0m\u001b[0;34m:\u001b[0m\u001b[0;34m\u001b[0m\u001b[0m\n\u001b[1;32m     14\u001b[0m                 \u001b[0menv\u001b[0m\u001b[0;34m.\u001b[0m\u001b[0mrender\u001b[0m\u001b[0;34m(\u001b[0m\u001b[0;34m)\u001b[0m\u001b[0;34m\u001b[0m\u001b[0m\n\u001b[0;32m---> 15\u001b[0;31m             \u001b[0mdiscrete_S\u001b[0m \u001b[0;34m=\u001b[0m \u001b[0mget_discrete_state\u001b[0m\u001b[0;34m(\u001b[0m\u001b[0mS\u001b[0m\u001b[0;34m)\u001b[0m\u001b[0;34m\u001b[0m\u001b[0m\n\u001b[0m\u001b[1;32m     16\u001b[0m             \u001b[0mA\u001b[0m \u001b[0;34m=\u001b[0m \u001b[0mepsilon_greedy\u001b[0m\u001b[0;34m(\u001b[0m\u001b[0mdiscrete_S\u001b[0m\u001b[0;34m)\u001b[0m \u001b[0;31m# Should change the state here\u001b[0m\u001b[0;34m\u001b[0m\u001b[0m\n\u001b[1;32m     17\u001b[0m             \u001b[0mS_next\u001b[0m\u001b[0;34m,\u001b[0m \u001b[0mreward\u001b[0m\u001b[0;34m,\u001b[0m \u001b[0m_\u001b[0m\u001b[0;34m,\u001b[0m \u001b[0m_\u001b[0m \u001b[0;34m=\u001b[0m \u001b[0menv\u001b[0m\u001b[0;34m.\u001b[0m\u001b[0mstep\u001b[0m\u001b[0;34m(\u001b[0m\u001b[0;34m[\u001b[0m\u001b[0;34m(\u001b[0m\u001b[0mA\u001b[0m\u001b[0;34m-\u001b[0m\u001b[0;36m2\u001b[0m\u001b[0;34m)\u001b[0m\u001b[0;34m*\u001b[0m\u001b[0mACTION_TILE_SIZE\u001b[0m\u001b[0;34m]\u001b[0m\u001b[0;34m)\u001b[0m\u001b[0;34m\u001b[0m\u001b[0m\n",
      "\u001b[0;32m<ipython-input-3-e0b36fa4afca>\u001b[0m in \u001b[0;36mget_discrete_state\u001b[0;34m(S)\u001b[0m\n\u001b[1;32m     11\u001b[0m \u001b[0;34m\u001b[0m\u001b[0m\n\u001b[1;32m     12\u001b[0m \u001b[0;32mdef\u001b[0m \u001b[0mget_discrete_state\u001b[0m\u001b[0;34m(\u001b[0m\u001b[0mS\u001b[0m\u001b[0;34m)\u001b[0m\u001b[0;34m:\u001b[0m\u001b[0;34m\u001b[0m\u001b[0m\n\u001b[0;32m---> 13\u001b[0;31m     \u001b[0;34m(\u001b[0m\u001b[0mx_coor\u001b[0m\u001b[0;34m,\u001b[0m \u001b[0my_coor\u001b[0m\u001b[0;34m)\u001b[0m \u001b[0;34m=\u001b[0m \u001b[0mget_position_tile\u001b[0m\u001b[0;34m(\u001b[0m\u001b[0mS\u001b[0m\u001b[0;34m[\u001b[0m\u001b[0;36m0\u001b[0m\u001b[0;34m]\u001b[0m\u001b[0;34m,\u001b[0m \u001b[0mS\u001b[0m\u001b[0;34m[\u001b[0m\u001b[0;36m1\u001b[0m\u001b[0;34m]\u001b[0m\u001b[0;34m)\u001b[0m\u001b[0;34m\u001b[0m\u001b[0m\n\u001b[0m\u001b[1;32m     14\u001b[0m     \u001b[0mang_vel\u001b[0m \u001b[0;34m=\u001b[0m \u001b[0mget_velocity_tile\u001b[0m\u001b[0;34m(\u001b[0m\u001b[0mS\u001b[0m\u001b[0;34m[\u001b[0m\u001b[0;36m2\u001b[0m\u001b[0;34m]\u001b[0m\u001b[0;34m)\u001b[0m\u001b[0;34m\u001b[0m\u001b[0m\n\u001b[1;32m     15\u001b[0m     \u001b[0;32mreturn\u001b[0m \u001b[0;34m(\u001b[0m\u001b[0mx_coor\u001b[0m\u001b[0;34m,\u001b[0m \u001b[0my_coor\u001b[0m\u001b[0;34m,\u001b[0m \u001b[0mang_vel\u001b[0m\u001b[0;34m)\u001b[0m\u001b[0;34m\u001b[0m\u001b[0m\n",
      "\u001b[0;32m<ipython-input-3-e0b36fa4afca>\u001b[0m in \u001b[0;36mget_position_tile\u001b[0;34m(i, j)\u001b[0m\n\u001b[1;32m      1\u001b[0m \u001b[0;32mdef\u001b[0m \u001b[0mget_position_tile\u001b[0m\u001b[0;34m(\u001b[0m\u001b[0mi\u001b[0m\u001b[0;34m,\u001b[0m \u001b[0mj\u001b[0m\u001b[0;34m)\u001b[0m\u001b[0;34m:\u001b[0m\u001b[0;34m\u001b[0m\u001b[0m\n\u001b[0;32m----> 2\u001b[0;31m     \u001b[0mtheta\u001b[0m \u001b[0;34m=\u001b[0m \u001b[0;34m(\u001b[0m\u001b[0my\u001b[0m\u001b[0;34m/\u001b[0m\u001b[0mx\u001b[0m\u001b[0;34m)\u001b[0m\u001b[0;34m\u001b[0m\u001b[0m\n\u001b[0m\u001b[1;32m      3\u001b[0m     \u001b[0mx_coor\u001b[0m \u001b[0;34m=\u001b[0m \u001b[0mint\u001b[0m\u001b[0;34m(\u001b[0m\u001b[0;34m(\u001b[0m\u001b[0mi\u001b[0m\u001b[0;34m+\u001b[0m\u001b[0;36m1\u001b[0m\u001b[0;34m)\u001b[0m \u001b[0;34m/\u001b[0m \u001b[0mTILE_SIZE\u001b[0m\u001b[0;34m)\u001b[0m\u001b[0;34m\u001b[0m\u001b[0m\n\u001b[1;32m      4\u001b[0m     \u001b[0my_coor\u001b[0m \u001b[0;34m=\u001b[0m \u001b[0mint\u001b[0m\u001b[0;34m(\u001b[0m\u001b[0;34m(\u001b[0m\u001b[0mj\u001b[0m\u001b[0;34m+\u001b[0m\u001b[0;36m1\u001b[0m\u001b[0;34m)\u001b[0m \u001b[0;34m/\u001b[0m \u001b[0mTILE_SIZE\u001b[0m\u001b[0;34m)\u001b[0m\u001b[0;34m\u001b[0m\u001b[0m\n\u001b[1;32m      5\u001b[0m \u001b[0;34m\u001b[0m\u001b[0m\n",
      "\u001b[0;31mNameError\u001b[0m: global name 'y' is not defined"
     ]
    }
   ],
   "source": [
    "episode_rewards, _ = qlearning()\n",
    "print episode_rewards\n",
    "# get_position_tile(0, 0)"
   ]
  },
  {
   "cell_type": "code",
   "execution_count": 10,
   "metadata": {
    "collapsed": false
   },
   "outputs": [
    {
     "name": "stdout",
     "output_type": "stream",
     "text": [
      "0.0\n",
      "90.0\n",
      "270.0\n",
      "180.0\n"
     ]
    }
   ],
   "source": [
    "import numpy as np\n",
    "import math\n",
    "def cart2pol(x, y):\n",
    "    rho = np.sqrt(x**2 + y**2)\n",
    "    phi = np.arctan2(y, x)\n",
    "#     return(rho, phi)\n",
    "    angle = math.degrees(phi)\n",
    "    if angle < 0:\n",
    "        angle = 360 + angle\n",
    "    return angle\n",
    "\n",
    "print cart2pol(1,0)\n",
    "print cart2pol(0,1)\n",
    "print cart2pol(0,-1)\n",
    "print cart2pol(-1,0)\n"
   ]
  },
  {
   "cell_type": "code",
   "execution_count": 3,
   "metadata": {
    "collapsed": false
   },
   "outputs": [
    {
     "data": {
      "text/plain": [
       "[<matplotlib.lines.Line2D at 0x119a28fd0>]"
      ]
     },
     "execution_count": 3,
     "metadata": {},
     "output_type": "execute_result"
    },
    {
     "data": {
      "image/png": "[encoded data removed]",
      "text/plain": [
       "<matplotlib.figure.Figure at 0x119672610>"
      ]
     },
     "metadata": {},
     "output_type": "display_data"
    }
   ],
   "source": [
    "import numpy as np\n",
    "import matplotlib.pyplot as plt\n",
    "import seaborn as sns; sns.set()\n",
    "%matplotlib inline\n",
    "\n",
    "def angle_normalize(x):\n",
    "    return (((x+np.pi) % (2*np.pi)) - np.pi)\n",
    "\n",
    "ANGLES = [-(2*np.pi), -((3*np.pi)/2) , -np.pi, -np.pi/2, -np.pi/4, 0, np.pi/4, np.pi/2, np.pi,  (3*np.pi)/2, 2*np.pi]\n",
    "res = []\n",
    "for angle in ANGLES:\n",
    "    res.append(-(angle_normalize(angle) ** 2))\n",
    "plt.plot(ANGLES, res, marker='o')\n"
   ]
  },
  {
   "cell_type": "code",
   "execution_count": 1,
   "metadata": {
    "collapsed": false
   },
   "outputs": [
    {
     "name": "stderr",
     "output_type": "stream",
     "text": [
      "[2016-11-20 16:45:28,457] Making new env: Pendulum-v0\n"
     ]
    },
    {
     "name": "stdout",
     "output_type": "stream",
     "text": [
      "Action Space\n",
      "Box(1,)\n",
      "Observation Space\n",
      "Box(3,)\n",
      "[-0.29146927 -0.02921624]\n",
      "Sin : -0.287360\n",
      "Cos : 0.957823\n",
      "343.30004075\n"
     ]
    }
   ],
   "source": [
    "import gym\n",
    "import math\n",
    "import numpy as np\n",
    "def normalize_angle(x):\n",
    "    x = (x % (2*np.pi))\n",
    "    if x < 0:\n",
    "        return ( x + (2*np.pi))\n",
    "    return x\n",
    "env = gym.make('Pendulum-v0')\n",
    "\n",
    "= env.reset()\n",
    "env.render()\n",
    "print firstobs\n",
    "print \"Sin : %f\"%(np.sin(firstobs[0]))\n",
    "print \"Cos : %f\"%(np.cos(firstobs[0]))\n",
    "print math.degrees(normalize_angle(firstobs[0]))\n",
    "\n",
    "# for i in range(100):\n",
    "#     result = env.step([0])\n",
    "#     env.render()\n",
    "#     print math.degrees(normalize_angle(result[0][0]))\n",
    "#     print result"
   ]
  },
  {
   "cell_type": "code",
   "execution_count": 2,
   "metadata": {
    "collapsed": false
   },
   "outputs": [
    {
     "name": "stdout",
     "output_type": "stream",
     "text": [
      "540.0\n",
      "-179.908747671\n",
      "3.14159265359\n",
      "3.14159265359\n"
     ]
    }
   ],
   "source": [
    "import numpy as np\n",
    "import math\n",
    "\n",
    "def cart2pol(x, y):\n",
    "    rho = np.sqrt(x**2 + y**2)\n",
    "    phi = np.arctan2(y, x)\n",
    "#     return(rho, phi)\n",
    "    angle = math.degrees(phi)\n",
    "    if angle < 0:\n",
    "        angle = 360 + angle\n",
    "    return angle\n",
    "\n",
    "# print cart2pol(-0.98412055,  0.17750141)\n",
    "# print cart2pol(0.17750141, -0.98412055)\n",
    "print math.degrees(3*np.pi)\n",
    "print math.degrees(-3.14)\n",
    "\n",
    "def normalize_angle(x):\n",
    "    x = (x % (2*np.pi))\n",
    "    if x < 0:\n",
    "        return ( x + (2*np.pi))\n",
    "    return x\n",
    "\n",
    "print normalize_angle(3*np.pi)\n",
    "print normalize_angle(-3*np.pi)"
   ]
  },
  {
   "cell_type": "code",
   "execution_count": 6,
   "metadata": {
    "collapsed": false
   },
   "outputs": [
    {
     "name": "stdout",
     "output_type": "stream",
     "text": [
      "1.57079632679\n"
     ]
    }
   ],
   "source": [
    "print normalize_angle(-7.5*np.pi)"
   ]
  }
 ],
 "metadata": {
  "anaconda-cloud": {},
  "kernelspec": {
   "display_name": "Python [Root]",
   "language": "python",
   "name": "Python [Root]"
  },
  "language_info": {
   "codemirror_mode": {
    "name": "ipython",
    "version": 2
   },
   "file_extension": ".py",
   "mimetype": "text/x-python",
   "name": "python",
   "nbconvert_exporter": "python",
   "pygments_lexer": "ipython2",
   "version": "2.7.12"
  }
 },
 "nbformat": 4,
 "nbformat_minor": 0
}
