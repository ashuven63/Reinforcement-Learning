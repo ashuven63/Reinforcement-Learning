{
 "cells": [
  {
   "cell_type": "code",
   "execution_count": 32,
   "metadata": {
    "collapsed": false
   },
   "outputs": [],
   "source": [
    "%matplotlib inline\n",
    "import Queue as queue\n",
    "from collections import defaultdict \n",
    "# from __future__ import print_function\n",
    "import random\n",
    "import matplotlib\n",
    "import numpy as np\n",
    "import matplotlib.pyplot as plt\n",
    "import seaborn as sns; sns.set()\n",
    "import copy\n",
    "import operator\n",
    "import numpy as np"
   ]
  },
  {
   "cell_type": "code",
   "execution_count": 45,
   "metadata": {
    "collapsed": false
   },
   "outputs": [],
   "source": [
    "# M = 6\n",
    "# N = 9\n",
    "LEFT = (0, -1)\n",
    "RIGHT = (0, 1)\n",
    "UP = (-1, 0)\n",
    "DOWN = (1, 0)\n",
    "ACTIONS = [LEFT, RIGHT, UP, DOWN]\n",
    "START_STATE = (3, 1)\n",
    "GOAL_STATE = (1, N)\n",
    "# State Table \n",
    "Q = defaultdict(dict)\n",
    "# Model = defaultdict(dict)\n",
    "Model = {}\n",
    "OBSTACLE_REWARD = -20\n",
    "# Epsilon Value for e-greedy policy \n",
    "EPSILON = 0.1\n",
    "ALPHA = 0.1\n",
    "GAMMA = 0.95\n",
    "NO_OF_EPISODES = 50\n",
    "NO_OF_STEPS = 100\n",
    "# OBSTACLES = set([(2,3),(3,3),(4,3),(5,6),(1,8),(2,8),(3,8)])\n",
    "THRESHOLD = 0.05"
   ]
  },
  {
   "cell_type": "code",
   "execution_count": 34,
   "metadata": {
    "collapsed": true
   },
   "outputs": [],
   "source": [
    "def is_valid_state((i, j)):\n",
    "    if i > M or j > N or i < 1 or j < 1:\n",
    "        return False\n",
    "    return True\n",
    "def is_goal_state((i,j)):\n",
    "    if i == GOAL_STATE[0] and j == GOAL_STATE[1]:\n",
    "        return True\n",
    "    return False\n",
    "def is_obstacle_state((i,j)):\n",
    "    state = (i,j)\n",
    "    if state in OBSTACLES:\n",
    "        return True\n",
    "    return False\n",
    "def is_terminal_state((i,j)):\n",
    "    return is_obstacle_state((i,j)) or is_goal_state((i,j))"
   ]
  },
  {
   "cell_type": "code",
   "execution_count": 35,
   "metadata": {
    "collapsed": true
   },
   "outputs": [],
   "source": [
    "def init_Q():\n",
    "    Model = {}\n",
    "    for i in range(1, M+1):\n",
    "        for j in range(1, N+1):\n",
    "            for action in ACTIONS:\n",
    "                next_state = tuple(map(operator.add, (i,j), action))\n",
    "                if is_valid_state(next_state):\n",
    "                    Q[(i,j)][action] = 0"
   ]
  },
  {
   "cell_type": "code",
   "execution_count": 36,
   "metadata": {
    "collapsed": true
   },
   "outputs": [],
   "source": [
    "def set_maze_world(m, n, obstacle_states, start_state, goal_state):\n",
    "    M = m\n",
    "    N = n\n",
    "    OBSTACLES = obstacle_states\n",
    "    START_STATE = start_state\n",
    "    GOAL_STATE = goal_state"
   ]
  },
  {
   "cell_type": "code",
   "execution_count": 37,
   "metadata": {
    "collapsed": true
   },
   "outputs": [],
   "source": [
    "def epsilon_greedy((i,j)):\n",
    "    state = (i,j)\n",
    "    valid_actions = Q[state].keys()\n",
    "    max_action = max(Q[state], key=Q[state].get)\n",
    "    if random.random() < EPSILON:\n",
    "        random_action = random.choice(valid_actions)\n",
    "        return random_action\n",
    "    max_action = max(Q[state], key=Q[state].get)\n",
    "    return max_action"
   ]
  },
  {
   "cell_type": "code",
   "execution_count": 38,
   "metadata": {
    "collapsed": true
   },
   "outputs": [],
   "source": [
    "def take_action(S, A):\n",
    "    next_state = tuple(map(operator.add, S, A))\n",
    "    if is_goal_state(next_state):\n",
    "        reward = 1\n",
    "    else:\n",
    "        reward = 0\n",
    "    if is_obstacle_state(next_state) or not is_valid_state(next_state):\n",
    "        next_state = S\n",
    "    return next_state, reward"
   ]
  },
  {
   "cell_type": "code",
   "execution_count": 49,
   "metadata": {
    "collapsed": false
   },
   "outputs": [],
   "source": [
    "def dyna(no_planning_steps):\n",
    "    init_Q()\n",
    "    total_steps = []\n",
    "    no_of_backups = 0\n",
    "    for i in range(NO_OF_EPISODES):\n",
    "        S = START_STATE\n",
    "        episode_steps = 0\n",
    "        while not is_terminal_state(S):\n",
    "            episode_steps += 1\n",
    "            A = epsilon_greedy(S)\n",
    "            S_next, reward = take_action(S, A)\n",
    "            A_next = max(Q[S_next], key=Q[S_next].get)\n",
    "            Q[S][A] = Q[S][A] + ALPHA * (reward + GAMMA*Q[S_next][A_next] - Q[S][A])\n",
    "            no_of_backups += 1\n",
    "            Model[(S,A)] = (reward, S_next)\n",
    "            S_new = S_next\n",
    "            for i in range(no_planning_steps):\n",
    "                (S,A) = random.choice(Model.keys())\n",
    "                (reward, S_next) = Model[(S,A)]\n",
    "                A_next = max(Q[S_next], key=Q[S_next].get)\n",
    "                no_of_backups += 1\n",
    "                Q[S][A] = Q[S][A] + ALPHA*(reward + GAMMA*Q[S_next][A_next] - Q[S][A])\n",
    "#             if (episode_steps % 100 == 0):\n",
    "#                 print(episode_steps)\n",
    "            S = S_new\n",
    "        total_steps.append(episode_steps)\n",
    "    print no_of_backups\n",
    "    return total_steps, no_of_backups\n",
    "\n",
    "def prioritized_sweeping(no_planning_steps):\n",
    "    init_Q()\n",
    "    p_queue = queue.PriorityQueue()\n",
    "    total_steps = []\n",
    "    no_of_backups = 0\n",
    "    for i in range(NO_OF_EPISODES):\n",
    "        S = START_STATE\n",
    "        episode_steps = 0\n",
    "        while not is_terminal_state(S):\n",
    "            episode_steps += 1\n",
    "            A = epsilon_greedy(S)\n",
    "            S_next, reward = take_action(S, A)\n",
    "            A_max = max(Q[S_next], key=Q[S_next].get)\n",
    "            Model[(S,A)] = (reward, S_next)\n",
    "            priority = abs(reward + GAMMA*Q[S_next][A_max] - Q[S][A])\n",
    "            if priority >= THRESHOLD:\n",
    "                p_queue.put((-priority, S, A))\n",
    "            S_new = S_next\n",
    "            for j in range(no_planning_steps):\n",
    "                if p_queue.empty():\n",
    "                    break\n",
    "                (_, S, A) = p_queue.get()\n",
    "                R, S_next = Model[(S,A)] \n",
    "                A_next = max(Q[S_next], key=Q[S_next].get)\n",
    "                no_of_backups += 1\n",
    "                Q[S][A] = Q[S][A] + ALPHA*(R + GAMMA*Q[S_next][A_next] - Q[S][A])\n",
    "                # Get all entires in model S_ and A_ has S is on right hand side\n",
    "                for entry in Model:\n",
    "                    if Model[entry][1] == S:\n",
    "                        R_p = Model[entry][0]\n",
    "                        A_next = max(Q[S], key=Q[S].get)\n",
    "                        priority = abs(R_p + GAMMA*Q[S][A_next] - Q[entry[0]][entry[1]])\n",
    "                        if priority >= THRESHOLD:\n",
    "                            p_queue.put((-priority, entry[0], entry[1]))\n",
    "            S = S_new\n",
    "        total_steps.append(episode_steps)\n",
    "    return total_steps, no_of_backups"
   ]
  },
  {
   "cell_type": "code",
   "execution_count": 40,
   "metadata": {
    "collapsed": false
   },
   "outputs": [
    {
     "name": "stdout",
     "output_type": "stream",
     "text": [
      "19\n",
      "Done With Dyna 0\n",
      "2\n",
      "Done With Dyna 5\n",
      "1586\n",
      "Done With Dyna 50\n"
     ]
    },
    {
     "data": {
      "text/plain": [
       "<matplotlib.legend.Legend at 0x11a137590>"
      ]
     },
     "execution_count": 40,
     "metadata": {},
     "output_type": "execute_result"
    },
    {
     "data": {
      "image/png": "[encoded data removed]",
      "text/plain": [
       "<matplotlib.figure.Figure at 0x118f50b90>"
      ]
     },
     "metadata": {},
     "output_type": "display_data"
    }
   ],
   "source": [
    "total_steps_0 = []\n",
    "total_steps_5 = []\n",
    "total_steps_50 = []\n",
    "total_steps_0, _ = dyna(0)\n",
    "print('Done With Dyna 0')\n",
    "total_steps_5, _ = dyna(5)\n",
    "print('Done With Dyna 5')\n",
    "total_steps_50, _ = dyna(50)\n",
    "print('Done With Dyna 50')\n",
    "\n",
    "plt.plot(range(NO_OF_EPISODES), total_steps_0, range(NO_OF_EPISODES), total_steps_5, range(NO_OF_EPISODES), total_steps_50)\n",
    "plt.ylabel('Episode steps')\n",
    "plt.xlabel('Episodes')\n",
    "plt.legend(['0 steps', '5 steps', '50 steps'], loc='best')"
   ]
  },
  {
   "cell_type": "code",
   "execution_count": 41,
   "metadata": {
    "collapsed": false
   },
   "outputs": [
    {
     "name": "stdout",
     "output_type": "stream",
     "text": [
      "Done With prioritized_sweeping 0\n",
      "Done With prioritized_sweeping 5\n",
      "Done With prioritized_sweeping 50\n"
     ]
    },
    {
     "data": {
      "text/plain": [
       "<matplotlib.legend.Legend at 0x11ab46d50>"
      ]
     },
     "execution_count": 41,
     "metadata": {},
     "output_type": "execute_result"
    },
    {
     "data": {
      "image/png": "[encoded data removed]",
      "text/plain": [
       "<matplotlib.figure.Figure at 0x11a5324d0>"
      ]
     },
     "metadata": {},
     "output_type": "display_data"
    }
   ],
   "source": [
    "total_steps_0 = []\n",
    "total_steps_5 = []\n",
    "total_steps_50 = []\n",
    "total_steps_0, _ = prioritized_sweeping(0)\n",
    "print('Done With prioritized_sweeping 0')\n",
    "total_steps_5, _ = prioritized_sweeping(5)\n",
    "print('Done With prioritized_sweeping 5')\n",
    "total_steps_50, _ = prioritized_sweeping(50)\n",
    "print('Done With prioritized_sweeping 50')\n",
    "\n",
    "plt.plot(range(NO_OF_EPISODES), total_steps_5, range(NO_OF_EPISODES), total_steps_50)\n",
    "plt.ylabel('Episode steps')\n",
    "plt.xlabel('Episodes')\n",
    "plt.legend(['0 steps', '5 steps', '50 steps'], loc='best')"
   ]
  },
  {
   "cell_type": "code",
   "execution_count": 50,
   "metadata": {
    "collapsed": false
   },
   "outputs": [
    {
     "name": "stdout",
     "output_type": "stream",
     "text": [
      "6150\n",
      "1\n",
      "6330\n",
      "2\n",
      "5790\n",
      "3\n",
      "6474\n",
      "4\n",
      "6858\n",
      "5\n",
      "5940\n",
      "6\n",
      "6048\n",
      "7\n",
      "6180\n",
      "8\n",
      "5334\n",
      "9\n",
      "6996\n",
      "10\n"
     ]
    },
    {
     "data": {
      "text/plain": [
       "<matplotlib.legend.Legend at 0x118ed12d0>"
      ]
     },
     "execution_count": 50,
     "metadata": {},
     "output_type": "execute_result"
    },
    {
     "data": {
      "image/png": "[encoded data removed]",
      "text/plain": [
       "<matplotlib.figure.Figure at 0x11ae4db90>"
      ]
     },
     "metadata": {},
     "output_type": "display_data"
    }
   ],
   "source": [
    "def set_maze_world(m, n, obstacle_states):\n",
    "    M = m\n",
    "    N = n\n",
    "    OBSTACLES = obstacle_states\n",
    "    \n",
    "dyna_b = []\n",
    "dyna_ps = []\n",
    "no_states = []\n",
    "\n",
    "ob = set([(2,3),(3,3),(4,3),(5,6),(1,8),(2,8),(3,8)])\n",
    "set_maze_world(6, 9, ob)\n",
    "_, backups_dyna = dyna(5)\n",
    "_, backups_ps = prioritized_sweeping(5)\n",
    "dyna_b.append(backups_dyna)\n",
    "dyna_ps.append(backups_ps)\n",
    "no_states.append(54)\n",
    "print 1\n",
    "ob = set([(2,3),(3,3),(4,3),(5,6),(1,8),(2,8),(3,8),(4,10),(4,9),(5,8),(6,8)])\n",
    "set_maze_world(7, 10, ob)\n",
    "_, backups_dyna = dyna(5)\n",
    "_, backups_ps = prioritized_sweeping(5)\n",
    "dyna_b.append(backups_dyna)\n",
    "dyna_ps.append(backups_ps)\n",
    "no_states.append(70)\n",
    "print 2\n",
    "ob = set([(2,3),(3,3),(4,3),(5,6),(1,8),(2,8),(3,8),(4,10),(4,9),(5,8),(6,8),(7,9),(7,10),(8,11)])\n",
    "set_maze_world(8, 11, ob)\n",
    "_, backups_dyna = dyna(5)\n",
    "_, backups_ps = prioritized_sweeping(5)\n",
    "dyna_b.append(backups_dyna)\n",
    "dyna_ps.append(backups_ps)\n",
    "no_states.append(88)\n",
    "print 3\n",
    "ob = set([(2,3),(3,3),(4,3),(5,6),(1,8),(2,8),(3,8),(4,10),(4,9),(5,8),(6,8),(7,9),(7,10),(8,11),(8,12),(9,11),(9,12),(9,8),(8,12)])\n",
    "set_maze_world(9, 12, ob)\n",
    "_, backups_dyna = dyna(5)\n",
    "_, backups_ps = prioritized_sweeping(5)\n",
    "dyna_b.append(backups_dyna)\n",
    "dyna_ps.append(backups_ps)\n",
    "no_states.append(108)\n",
    "print 4\n",
    "ob = set([(2,3),(3,3),(4,3),(5,6),(1,8),(2,8),(3,8),(4,10),(4,9),(5,8),(6,8),(7,9),(7,10),(8,11),(8,12),(9,11),(9,12),(9,8),(8,12)])\n",
    "set_maze_world(10, 13, ob)\n",
    "_, backups_dyna = dyna(5)\n",
    "_, backups_ps = prioritized_sweeping(5)\n",
    "dyna_b.append(backups_dyna)\n",
    "dyna_ps.append(backups_ps)\n",
    "no_states.append(130)\n",
    "print 5\n",
    "ob = set([(2,3),(3,3),(4,3),(5,6),(1,8),(2,8),(3,8),(4,10),(4,9),(5,8),(6,8),(7,9),(7,10),(8,11),(8,12),(9,11),(9,12),(9,8),(8,12)])\n",
    "set_maze_world(15, 15, ob)\n",
    "_, backups_dyna = dyna(5)\n",
    "_, backups_ps = prioritized_sweeping(5)\n",
    "dyna_b.append(backups_dyna)\n",
    "dyna_ps.append(backups_ps)\n",
    "no_states.append(225)\n",
    "print 6\n",
    "ob = set([(2,3),(3,3),(4,3),(5,6),(1,8),(2,8),(3,8),(4,10),(4,9),(5,8),(6,8),(7,9),(7,10),(8,11),(8,12),(9,11),(9,12),(9,8),(8,12)])\n",
    "set_maze_world(20, 20, ob)\n",
    "_, backups_dyna = dyna(5)\n",
    "_, backups_ps = prioritized_sweeping(5)\n",
    "dyna_b.append(backups_dyna)\n",
    "dyna_ps.append(backups_ps)\n",
    "no_states.append(400)\n",
    "print 7\n",
    "ob = set([(2,3),(3,3),(4,3),(5,6),(1,8),(2,8),(3,8),(4,10),(4,9),(5,8),(6,8),(7,9),(7,10),(8,11),(8,12),(9,11),(9,12),(9,8),(8,12)])\n",
    "set_maze_world(25, 25, ob)\n",
    "_, backups_dyna = dyna(5)\n",
    "_, backups_ps = prioritized_sweeping(5)\n",
    "dyna_b.append(backups_dyna)\n",
    "dyna_ps.append(backups_ps)\n",
    "no_states.append(625)\n",
    "print 8\n",
    "ob = set([(2,3),(3,3),(4,3),(5,6),(1,8),(2,8),(3,8),(4,10),(4,9),(5,8),(6,8),(7,9),(7,10),(8,11),(8,12),(9,11),(9,12),(9,8),(8,12)])\n",
    "set_maze_world(30, 30, ob)\n",
    "_, backups_dyna = dyna(5)\n",
    "_, backups_ps = prioritized_sweeping(5)\n",
    "dyna_b.append(backups_dyna)\n",
    "dyna_ps.append(backups_ps)\n",
    "no_states.append(900)\n",
    "print 9\n",
    "ob = set([(2,3),(3,3),(4,3),(5,6),(1,8),(2,8),(3,8),(4,10),(4,9),(5,8),(6,8),(7,9),(7,10),(8,11),(8,12),(9,11),(9,12),(9,8),(8,12)])\n",
    "set_maze_world(35, 35, ob)\n",
    "_, backups_dyna = dyna(5)\n",
    "_, backups_ps = prioritized_sweeping(5)\n",
    "dyna_b.append(backups_dyna)\n",
    "dyna_ps.append(backups_ps)\n",
    "no_states.append(1225)\n",
    "print 10\n",
    "plt.plot(no_states, dyna_b, no_states, dyna_ps)\n",
    "plt.ylabel('No of backups')\n",
    "plt.xlabel('No of states')\n",
    "plt.legend(['Dyna', 'Priority Sweeping'], loc='best')"
   ]
  },
  {
   "cell_type": "code",
   "execution_count": null,
   "metadata": {
    "collapsed": true
   },
   "outputs": [],
   "source": []
  }
 ],
 "metadata": {
  "anaconda-cloud": {},
  "kernelspec": {
   "display_name": "Python [Root]",
   "language": "python",
   "name": "Python [Root]"
  },
  "language_info": {
   "codemirror_mode": {
    "name": "ipython",
    "version": 2
   },
   "file_extension": ".py",
   "mimetype": "text/x-python",
   "name": "python",
   "nbconvert_exporter": "python",
   "pygments_lexer": "ipython2",
   "version": "2.7.12"
  }
 },
 "nbformat": 4,
 "nbformat_minor": 0
}
