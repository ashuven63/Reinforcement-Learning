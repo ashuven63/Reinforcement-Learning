{
 "cells": [
  {
   "cell_type": "code",
   "execution_count": 65,
   "metadata": {
    "collapsed": false
   },
   "outputs": [],
   "source": [
    "%matplotlib inline\n",
    "from collections import defaultdict \n",
    "# from __future__ import print_function\n",
    "import random\n",
    "import matplotlib\n",
    "import numpy as np\n",
    "import matplotlib.pyplot as plt\n",
    "import seaborn as sns; sns.set()\n",
    "import copy\n",
    "import operator\n",
    "import numpy as np"
   ]
  },
  {
   "cell_type": "code",
   "execution_count": 66,
   "metadata": {
    "collapsed": false
   },
   "outputs": [],
   "source": [
    "M = 6\n",
    "N = 9\n",
    "LEFT = (0, -1)\n",
    "RIGHT = (0, 1)\n",
    "UP = (-1, 0)\n",
    "DOWN = (1, 0)\n",
    "ACTIONS = [LEFT, RIGHT, UP, DOWN]\n",
    "START_STATE = (3, 1)\n",
    "GOAL_STATE = (1, N)\n",
    "# State Table \n",
    "Q = defaultdict(dict)\n",
    "# Model = defaultdict(dict)\n",
    "Model = {}\n",
    "OBSTACLE_REWARD = -20\n",
    "# Epsilon Value for e-greedy policy \n",
    "EPSILON = 0.1\n",
    "ALPHA = 0.1\n",
    "GAMMA = 0.95\n",
    "NO_OF_EPISODES = 50\n",
    "NO_OF_STEPS = 100\n",
    "OBSTACLES = set([(2,3),(3,3),(4,3),(5,6),(8,1),(8,2),(8,3)])"
   ]
  },
  {
   "cell_type": "code",
   "execution_count": 67,
   "metadata": {
    "collapsed": true
   },
   "outputs": [],
   "source": [
    "def is_valid_state((i, j)):\n",
    "    if i > M or j > N or i < 1 or j < 1:\n",
    "        return False\n",
    "    return True\n",
    "def is_goal_state((i,j)):\n",
    "    if i == GOAL_STATE[0] and j == GOAL_STATE[1]:\n",
    "        return True\n",
    "    return False\n",
    "def is_obstacle_state((i,j)):\n",
    "    state = (i,j)\n",
    "    if state in OBSTACLES:\n",
    "        return True\n",
    "    return False\n",
    "def is_terminal_state((i,j)):\n",
    "    return is_obstacle_state((i,j)) or is_goal_state((i,j))"
   ]
  },
  {
   "cell_type": "code",
   "execution_count": 68,
   "metadata": {
    "collapsed": true
   },
   "outputs": [],
   "source": [
    "def init_Q():\n",
    "    Model = {}\n",
    "    for i in range(1, M+1):\n",
    "        for j in range(1, N+1):\n",
    "            for action in ACTIONS:\n",
    "                next_state = tuple(map(operator.add, (i,j), action))\n",
    "                if is_valid_state(next_state):\n",
    "                    Q[(i,j)][action] = 0\n"
   ]
  },
  {
   "cell_type": "code",
   "execution_count": 69,
   "metadata": {
    "collapsed": true
   },
   "outputs": [],
   "source": [
    "def epsilon_greedy((i,j)):\n",
    "    state = (i,j)\n",
    "    valid_actions = Q[state].keys()\n",
    "    max_action = max(Q[state], key=Q[state].get)\n",
    "    if random.random() < EPSILON:\n",
    "        random_action = random.choice(valid_actions)\n",
    "        return random_action\n",
    "    max_action = max(Q[state], key=Q[state].get)\n",
    "    return max_action"
   ]
  },
  {
   "cell_type": "code",
   "execution_count": 70,
   "metadata": {
    "collapsed": true
   },
   "outputs": [],
   "source": [
    "def take_action(S, A):\n",
    "    next_state = tuple(map(operator.add, S, A))\n",
    "    if is_goal_state(next_state):\n",
    "        reward = 1\n",
    "    else:\n",
    "        reward = 0\n",
    "    if is_obstacle_state(next_state) or not is_valid_state(next_state):\n",
    "        next_state = S\n",
    "    return next_state, reward"
   ]
  },
  {
   "cell_type": "code",
   "execution_count": 71,
   "metadata": {
    "collapsed": false
   },
   "outputs": [],
   "source": [
    "def dyna(no_planning_steps):\n",
    "    init_Q()\n",
    "    total_steps = []\n",
    "    for i in range(NO_OF_EPISODES):\n",
    "        S = START_STATE\n",
    "        episode_steps = 0\n",
    "        while not is_terminal_state(S):\n",
    "            episode_steps += 1\n",
    "            A = epsilon_greedy(S)\n",
    "            S_next, reward = take_action(S, A)\n",
    "            A_next = max(Q[S_next], key=Q[S_next].get)\n",
    "            Q[S][A] = Q[S][A] + ALPHA * (reward + GAMMA*Q[S_next][A_next] - Q[S][A])\n",
    "            Model[(S,A)] = (reward, S_next)\n",
    "            S_new = S_next\n",
    "            for i in range(no_planning_steps):\n",
    "                (S,A) = random.choice(Model.keys())\n",
    "                (reward, S_next) = Model[(S,A)]\n",
    "                A_next = max(Q[S_next], key=Q[S_next].get)\n",
    "                Q[S][A] = Q[S][A] + ALPHA*(reward + GAMMA*Q[S_next][A_next] - Q[S][A])\n",
    "#             if (episode_steps % 100 == 0):\n",
    "#                 print(episode_steps)\n",
    "            S = S_new\n",
    "        total_steps.append(episode_steps)\n",
    "    return total_steps"
   ]
  },
  {
   "cell_type": "code",
   "execution_count": 72,
   "metadata": {
    "collapsed": false
   },
   "outputs": [
    {
     "name": "stdout",
     "output_type": "stream",
     "text": [
      "Done With Dyna 0\n",
      "Done With Dyna 5\n",
      "Done With Dyna 50\n"
     ]
    },
    {
     "data": {
      "text/plain": [
       "<matplotlib.legend.Legend at 0x11a3fa050>"
      ]
     },
     "execution_count": 72,
     "metadata": {},
     "output_type": "execute_result"
    },
    {
     "data": {
      "image/png": "[encoded data removed]",
      "text/plain": [
       "<matplotlib.figure.Figure at 0x11a29d210>"
      ]
     },
     "metadata": {},
     "output_type": "display_data"
    }
   ],
   "source": [
    "total_steps_0 = []\n",
    "total_steps_5 = []\n",
    "total_steps_50 = []\n",
    "total_steps_0 = dyna(0)\n",
    "print('Done With Dyna 0')\n",
    "total_steps_5 = dyna(5)\n",
    "print('Done With Dyna 5')\n",
    "total_steps_50 = dyna(50)\n",
    "print('Done With Dyna 50')\n",
    "\n",
    "plt.plot(range(NO_OF_EPISODES), total_steps_0, range(NO_OF_EPISODES), total_steps_5, range(NO_OF_EPISODES), total_steps_50)\n",
    "plt.ylabel('Episode steps')\n",
    "plt.xlabel('Episodes')\n",
    "plt.legend(['0 steps', '5 steps', '50 steps'], loc='best')"
   ]
  },
  {
   "cell_type": "code",
   "execution_count": null,
   "metadata": {
    "collapsed": true
   },
   "outputs": [],
   "source": []
  }
 ],
 "metadata": {
  "anaconda-cloud": {},
  "kernelspec": {
   "display_name": "Python [Root]",
   "language": "python",
   "name": "Python [Root]"
  },
  "language_info": {
   "codemirror_mode": {
    "name": "ipython",
    "version": 2
   },
   "file_extension": ".py",
   "mimetype": "text/x-python",
   "name": "python",
   "nbconvert_exporter": "python",
   "pygments_lexer": "ipython2",
   "version": "2.7.12"
  }
 },
 "nbformat": 4,
 "nbformat_minor": 0
}
